{
 "cells": [
  {
   "cell_type": "code",
   "execution_count": 40,
   "id": "0821c291",
   "metadata": {
    "scrolled": true
   },
   "outputs": [
    {
     "name": "stdout",
     "output_type": "stream",
     "text": [
      "8\n",
      "3\n"
     ]
    }
   ],
   "source": [
    "# 1. In the below elements which of them are values or an expression? \n",
    "#     eg:- values can be integer or string and expressions will be mathematical operators.\n",
    "\n",
    "\n",
    "\n",
    "#    * = it is a multiplication expression for eg:\n",
    "print(2*4)\n",
    "#    'hello'= it is a string variable.\n",
    "#    -87.8 = it is an floating integer.\n",
    "#    - = it is a Subtraction expression.\n",
    "print(8-5)\n",
    "#    / = it is a Division expression.\n",
    "#    6 = it is an integer.\n"
   ]
  },
  {
   "cell_type": "code",
   "execution_count": null,
   "id": "f5345135",
   "metadata": {},
   "outputs": [],
   "source": [
    "# 2. What is the difference between string and variable?\n",
    "\n",
    "#     string - A string may be an integer, variable, floting number, complex number, but it should be enclosed with a single or \n",
    "#                  double quotation\n",
    "#    variable - a variable is a set of word or number that is provided by user to a program to execute & stored."
   ]
  },
  {
   "cell_type": "code",
   "execution_count": 44,
   "id": "7da5d125",
   "metadata": {},
   "outputs": [
    {
     "name": "stdout",
     "output_type": "stream",
     "text": [
      "sunil\n",
      "list['sunil', 67, (7+7j)]\n",
      "78\n"
     ]
    }
   ],
   "source": [
    "# 3. Describe three different data types.\n",
    " \n",
    "#1 = string\n",
    "print(\"sunil\")\n",
    "#2 = list[]\n",
    "print(list[\"sunil\", 67, 7+7j])\n",
    "#3 = integer\n",
    "print(78)\n",
    "    "
   ]
  },
  {
   "cell_type": "code",
   "execution_count": null,
   "id": "5749b4ac",
   "metadata": {},
   "outputs": [],
   "source": [
    "# 4. What is an expression made up of? What do all expressions do?\n",
    "\n",
    "#       An expression is a mathematical, relational, logical operations.\n",
    "#               all expression results the output of that given value"
   ]
  },
  {
   "cell_type": "code",
   "execution_count": null,
   "id": "23e46e08",
   "metadata": {},
   "outputs": [],
   "source": [
    "# 5. This assignment statements, like spam = 10. What is the difference between an expression and a statement?\n",
    "\n",
    "\n",
    "# An expression is a mathematical, relational, logical operations,\n",
    "#          where as when a command is given to python interpreter to execute is called a statement"
   ]
  },
  {
   "cell_type": "code",
   "execution_count": 1,
   "id": "6d064db6",
   "metadata": {},
   "outputs": [
    {
     "data": {
      "text/plain": [
       "23"
      ]
     },
     "execution_count": 1,
     "metadata": {},
     "output_type": "execute_result"
    }
   ],
   "source": [
    "#6. After running the following code, what does the variable bacon contain?\n",
    "\n",
    "\n",
    "bacon = 22\n",
    "bacon + 1\n",
    "\n",
    "\n",
    "# it contain an integer"
   ]
  },
  {
   "cell_type": "code",
   "execution_count": 4,
   "id": "1caacc56",
   "metadata": {},
   "outputs": [
    {
     "name": "stdout",
     "output_type": "stream",
     "text": [
      "spamspamspam\n",
      "spamspamspam\n"
     ]
    }
   ],
   "source": [
    "# 7. What should the values of the following two terms be?\n",
    "\n",
    "\n",
    "print('spam' + 'spamspam')\n",
    "print('spam' * 3)\n"
   ]
  },
  {
   "cell_type": "code",
   "execution_count": 52,
   "id": "af73afa8",
   "metadata": {},
   "outputs": [],
   "source": [
    "# 8. Why is eggs a valid variable name while 100 is invalid?\n",
    "\n",
    "#  we cannot give an integer as a valid variable name, as we can give an alphabet then integer as a valid variable.\n",
    "# for eg: egg100 can be a valid name & 100egg is invalid."
   ]
  },
  {
   "cell_type": "code",
   "execution_count": 5,
   "id": "fb638dd2",
   "metadata": {},
   "outputs": [],
   "source": [
    "# 9. What three functions can be used to get the integer, floating-point number, or string version of a value?\n",
    "\n",
    "\n",
    "# int()\n",
    "#  str()\n",
    "#  float()"
   ]
  },
  {
   "cell_type": "code",
   "execution_count": 2,
   "id": "49abe254",
   "metadata": {},
   "outputs": [
    {
     "name": "stdout",
     "output_type": "stream",
     "text": [
      "I have eaten 99 burritos.\n"
     ]
    }
   ],
   "source": [
    "#10. Why does this expression cause an error? How can you fix it?\n",
    "\n",
    "# Ans - the error is because while executing the variable, there is an integer value in the variable which cannot be executed\n",
    "#       only \"string\" + \"string\" can be execute or else \"integer\"+\"integer\" can be execute.\n",
    "\n",
    "print('I have eaten ' + '99' + ' burritos.')\n",
    "# by giving quotation to an integer"
   ]
  },
  {
   "cell_type": "code",
   "execution_count": null,
   "id": "5f384930",
   "metadata": {},
   "outputs": [],
   "source": []
  }
 ],
 "metadata": {
  "kernelspec": {
   "display_name": "Python 3 (ipykernel)",
   "language": "python",
   "name": "python3"
  },
  "language_info": {
   "codemirror_mode": {
    "name": "ipython",
    "version": 3
   },
   "file_extension": ".py",
   "mimetype": "text/x-python",
   "name": "python",
   "nbconvert_exporter": "python",
   "pygments_lexer": "ipython3",
   "version": "3.9.7"
  }
 },
 "nbformat": 4,
 "nbformat_minor": 5
}
